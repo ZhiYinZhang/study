{
 "cells": [
  {
   "cell_type": "code",
   "execution_count": null,
   "metadata": {},
   "outputs": [],
   "source": [
    "#!/usr/bin/env python3\n",
    "# -*- coding:utf-8 -*-\n",
    "# datetime:2019/1/11 14:59\n",
    "import json\n",
    "import pandas as pd\n",
    "import numpy as np\n",
    "\n",
    "l_l=[[53, 5.6683421135], [92, 4.7888855934]]\n",
    "\n",
    "s=json.dumps(l_l)\n",
    "\n",
    "print(s)\n",
    "l=json.loads(s)\n",
    "\n",
    "print(l)\n",
    "\n",
    "m={}\n",
    "for i in l:\n",
    "    m[i[0]]=i[1]\n",
    "\n",
    "print(m)"
   ]
  }
 ],
 "metadata": {
  "language": "python"
 },
 "nbformat": 4,
 "nbformat_minor": 2
}
